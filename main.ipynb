{
 "cells": [
  {
   "cell_type": "code",
   "execution_count": 1,
   "metadata": {},
   "outputs": [],
   "source": [
    "persian_sentences = [\n",
    "    \"امروز هوا بسیار دلپذیر بود.\",\n",
    "    \"مادرم غذای خوشمزه‌ای برای شام درست کرده است.\",\n",
    "    \"فردا به کوه‌پیمایی خواهیم رفت.\",\n",
    "    \"کتاب جدیدی که خریده‌ام بسیار جالب است.\",\n",
    "    \"دوست دارم وقتی هوا ابری است به پارک بروم.\",\n",
    "    \"خانه‌مان را تازه رنگ کرده‌ایم.\",\n",
    "    \"هر روز صبح یک فنجان چای می‌نوشم.\",\n",
    "    \"گربه‌مان عاشق بازی با کاموا است.\",\n",
    "    \"پدرم همیشه مرا به ورزش تشویق می‌کند.\",\n",
    "    \"هفته آینده به دیدار دوستانم می‌روم.\",\n",
    "    \"یادگیری زبان جدید می‌تواند تجربه جذابی باشد.\",\n",
    "    \"امروز با خانواده به سینما رفتیم.\",\n",
    "    \"من به گل‌های حیاط‌مان رسیدگی می‌کنم.\",\n",
    "    \"هر شب قبل از خواب کمی مطالعه می‌کنم.\",\n",
    "    \"امتحان هفته آینده خیلی مهم است.\",\n",
    "    \"از تماشای غروب آفتاب لذت می‌برم.\",\n",
    "    \"بهترین زمان برای پیاده‌روی صبح زود است.\",\n",
    "    \"خواهرم نقاشی‌های زیبایی می‌کشد.\",\n",
    "    \"کارهای هنری را خیلی دوست دارم.\",\n",
    "    \"برای روز تولد دوستم یک هدیه عالی خریدم.\"\n",
    "]"
   ]
  },
  {
   "cell_type": "code",
   "execution_count": 2,
   "metadata": {},
   "outputs": [],
   "source": [
    "fingilish_sentences = [\n",
    "    \"Emrooz hava besyar delpazir bood.\",\n",
    "    \"Madaram ghaza-ye khoshmaze-i baraye sham dorost kardeh ast.\",\n",
    "    \"Farda be kuhpeymayi khahim raft.\",\n",
    "    \"Ketabe jadidi ke kharideham besyar jaleb ast.\",\n",
    "    \"Doost daram vaghti hava abri ast be park beravam.\",\n",
    "    \"Khaneman ra taze rang kardehim.\",\n",
    "    \"Har rooz sobh yek fenjan chai minusham.\",\n",
    "    \"Gorbehaman asheghe bazi ba kamva ast.\",\n",
    "    \"Pedaram hamishe mara be varzesh tashvigh mikonad.\",\n",
    "    \"Hafte ayande be didare doostanam miravam.\"\n",
    "    \"Yadgiriye zabane jadid mitavanad tajrobe jazabi bashad.\",\n",
    "    \"Emrooz ba khanevade be sinema raftim.\",\n",
    "    \"Man be golhaye hayatman rasidgi mikonam.\",\n",
    "    \"Har shab ghabl az khob kami motalee mikonam.\",\n",
    "    \"Emtehan hafte ayande kheyli mohem ast.\",\n",
    "    \"Az tamashaye ghorube aftab lezzat mibaram.\",\n",
    "    \"Behtarin zaman baraye piaderavi sobh zood ast.\",\n",
    "    \"Khaharam naghashihaye zibai mikeshad.\",\n",
    "    \"Karhaye honari ra kheyli doost daram.\",\n",
    "    \"Baraye rooze tavallode doostam yek hediye aali kharidam.\"\n",
    "]"
   ]
  },
  {
   "cell_type": "code",
   "execution_count": null,
   "metadata": {},
   "outputs": [],
   "source": []
  }
 ],
 "metadata": {
  "kernelspec": {
   "display_name": "venv",
   "language": "python",
   "name": "python3"
  },
  "language_info": {
   "codemirror_mode": {
    "name": "ipython",
    "version": 3
   },
   "file_extension": ".py",
   "mimetype": "text/x-python",
   "name": "python",
   "nbconvert_exporter": "python",
   "pygments_lexer": "ipython3",
   "version": "3.12.3"
  }
 },
 "nbformat": 4,
 "nbformat_minor": 2
}
